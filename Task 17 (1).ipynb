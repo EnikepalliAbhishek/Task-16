{
 "cells": [
  {
   "cell_type": "raw",
   "id": "3491d29f",
   "metadata": {},
   "source": [
    "use context manager\n",
    "\n",
    "Create a file Write a Python program that creates a text file named \"data.txt\" and add data about python programming (should contain at least 5 lines)\n",
    "\n",
    "Read and Display File Contents Write a Python program that reads a text file named \"data.txt\" and displays its contents on the screen.\n",
    "\n",
    "Count Words in a File Write a Python program that reads a text file named \"data.txt\" and counts the total number of words in the file. Display the word count on the screen.\n",
    "\n",
    "Search and Replace Create a Python program that reads a text file named \"data.txt\" and asks the user to enter a word to search for. If the word is found in the file, replace all occurrences of the word with a new word provided by the user.\n",
    "\n",
    "Append to a File Write a Python program that prompts the user to enter a sentence. Append this sentence to an existing file named \"notes.txt\". Make sure the newly added sentence starts on a new line."
   ]
  },
  {
   "cell_type": "raw",
   "id": "4f3923c7",
   "metadata": {},
   "source": [
    "Create a file Write a Python program that creates a text file named \"data.txt\" and add data about python programming (should contain at least 5 lines)"
   ]
  },
  {
   "cell_type": "code",
   "execution_count": 12,
   "id": "4b637b22",
   "metadata": {},
   "outputs": [],
   "source": [
    "with open(\"data.text\",'w+') as f1:\n",
    "    f1.write(\"Python is a high-level, general-purpose programming language. Its design philosophy emphasizes code readability with the use of significant indentation. Python is dynamically typed and garbage-collected. It supports multiple programming paradigms, including structured, object-oriented and functional programming.it is an interperted languagesit is an interperted languageit is an interperted languageit is an interperted languageit is an interperted languagePython is a high-level, general-purpose programming language. Its design philosophy emphasizes code readability with the use of significant indentation. Python is dynamically typed and garbage-collected. It supports multiple programming paradigms, including structured, object-oriented and functional programming.it is an interperted languageit is an interperted languagePython is a high-level, general-purpose programming language. Its design philosophy emphasizes code readability with the use of significant indentation. Python is dynamically typed and garbage-collected. It supports multiple programming paradigms, including structured, object-oriented and functional programming.python is interputer languagePython is a high-level, general-purpose programming language. Its design philosophy emphasizes code readability with the use of significant indentation. Python is dynamically typed and garbage-collected. It supports multiple programming paradigms, including structured, object-oriented and functional programming.\")"
   ]
  },
  {
   "cell_type": "code",
   "execution_count": 13,
   "id": "68b9ad8d",
   "metadata": {},
   "outputs": [],
   "source": [
    "f1.close()"
   ]
  },
  {
   "cell_type": "raw",
   "id": "8c336b67",
   "metadata": {},
   "source": [
    "Read and Display File Contents Write a Python program that reads a text file named \"data.txt\" and displays its contents on the screen.\n"
   ]
  },
  {
   "cell_type": "code",
   "execution_count": 9,
   "id": "33db0aee",
   "metadata": {},
   "outputs": [],
   "source": [
    "f1=open('data.text')"
   ]
  },
  {
   "cell_type": "code",
   "execution_count": 16,
   "id": "c9e34e47",
   "metadata": {},
   "outputs": [
    {
     "data": {
      "text/plain": [
       "0"
      ]
     },
     "execution_count": 16,
     "metadata": {},
     "output_type": "execute_result"
    }
   ],
   "source": [
    "f1.seek(0)"
   ]
  },
  {
   "cell_type": "code",
   "execution_count": 17,
   "id": "d541cedf",
   "metadata": {},
   "outputs": [
    {
     "data": {
      "text/plain": [
       "'Python is a high-level, general-purpose programming language. Its design philosophy emphasizes code readability with the use of significant indentation. Python is dynamically typed and garbage-collected. It supports multiple programming paradigms, including structured, object-oriented and functional programming.it is an interperted languagesit is an interperted languageit is an interperted languageit is an interperted languageit is an interperted languagePython is a high-level, general-purpose programming language. Its design philosophy emphasizes code readability with the use of significant indentation. Python is dynamically typed and garbage-collected. It supports multiple programming paradigms, including structured, object-oriented and functional programming.it is an interperted languageit is an interperted languagePython is a high-level, general-purpose programming language. Its design philosophy emphasizes code readability with the use of significant indentation. Python is dynamically typed and garbage-collected. It supports multiple programming paradigms, including structured, object-oriented and functional programming.python is interputer languagePython is a high-level, general-purpose programming language. Its design philosophy emphasizes code readability with the use of significant indentation. Python is dynamically typed and garbage-collected. It supports multiple programming paradigms, including structured, object-oriented and functional programming.'"
      ]
     },
     "execution_count": 17,
     "metadata": {},
     "output_type": "execute_result"
    }
   ],
   "source": [
    "f1.read()"
   ]
  },
  {
   "cell_type": "raw",
   "id": "91095a1e",
   "metadata": {},
   "source": [
    "Count Words in a File Write a Python program that reads a text file named \"data.txt\" and counts the total number of words in the file. Display the word count on the screen."
   ]
  },
  {
   "cell_type": "code",
   "execution_count": 18,
   "id": "51146841",
   "metadata": {},
   "outputs": [
    {
     "data": {
      "text/plain": [
       "1485"
      ]
     },
     "execution_count": 18,
     "metadata": {},
     "output_type": "execute_result"
    }
   ],
   "source": [
    "f1.tell()"
   ]
  },
  {
   "cell_type": "code",
   "execution_count": 20,
   "id": "b28581b1",
   "metadata": {},
   "outputs": [],
   "source": [
    "f1.close()"
   ]
  },
  {
   "cell_type": "raw",
   "id": "a7b53e85",
   "metadata": {},
   "source": [
    "Search and Replace Create a Python program that reads a text file named \"data.txt\" and asks the user to enter a word to search for. If the word is found in the file, replace all occurrences of the word with a new word provided by the user.\n"
   ]
  },
  {
   "cell_type": "code",
   "execution_count": 6,
   "id": "53996a8c",
   "metadata": {},
   "outputs": [],
   "source": [
    "f1=open(\"data.text\")\n",
    "string=f1.read()"
   ]
  },
  {
   "cell_type": "code",
   "execution_count": 7,
   "id": "fd64f51b",
   "metadata": {},
   "outputs": [
    {
     "name": "stdout",
     "output_type": "stream",
     "text": [
      "enter a word:  python\n",
      "enter a new word:  course\n"
     ]
    }
   ],
   "source": [
    "count=input(\"enter a word:  \")\n",
    "replace=input(\"enter a new word:  \")\n",
    "if count in string:\n",
    "    print(string.replace(count,replace))"
   ]
  },
  {
   "cell_type": "code",
   "execution_count": 8,
   "id": "61b0633e",
   "metadata": {},
   "outputs": [],
   "source": [
    "f1.close()"
   ]
  },
  {
   "cell_type": "raw",
   "id": "99c5abc1",
   "metadata": {},
   "source": [
    "Append to a File Write a Python program that prompts the user to enter a sentence. Append this sentence to an existing file named \"notes.txt\". Make sure the newly added sentence starts on a new line."
   ]
  },
  {
   "cell_type": "code",
   "execution_count": 14,
   "id": "5720a304",
   "metadata": {},
   "outputs": [
    {
     "data": {
      "text/plain": [
       "56"
      ]
     },
     "execution_count": 14,
     "metadata": {},
     "output_type": "execute_result"
    }
   ],
   "source": [
    "f1=open(\"data.text\",'a+')\n",
    "f1.write(\"i am abhishek i am learing the python in innomatices lab\")"
   ]
  },
  {
   "cell_type": "code",
   "execution_count": 15,
   "id": "acf33132",
   "metadata": {},
   "outputs": [
    {
     "data": {
      "text/plain": [
       "'Python is a high-level, general-purpose programming language. Its design philosophy emphasizes code readability with the use of significant indentation. Python is dynamically typed and garbage-collected. It supports multiple programming paradigms, including structured, object-oriented and functional programming.it is an interperted languagesit is an interperted languageit is an interperted languageit is an interperted languageit is an interperted languagePython is a high-level, general-purpose programming language. Its design philosophy emphasizes code readability with the use of significant indentation. Python is dynamically typed and garbage-collected. It supports multiple programming paradigms, including structured, object-oriented and functional programming.it is an interperted languageit is an interperted languagePython is a high-level, general-purpose programming language. Its design philosophy emphasizes code readability with the use of significant indentation. Python is dynamically typed and garbage-collected. It supports multiple programming paradigms, including structured, object-oriented and functional programming.python is interputer languagePython is a high-level, general-purpose programming language. Its design philosophy emphasizes code readability with the use of significant indentation. Python is dynamically typed and garbage-collected. It supports multiple programming paradigms, including structured, object-oriented and functional programming.i am abhishek i am learing the python in innomatices lab'"
      ]
     },
     "execution_count": 15,
     "metadata": {},
     "output_type": "execute_result"
    }
   ],
   "source": [
    "f1.seek(0)\n",
    "f1.read()"
   ]
  },
  {
   "cell_type": "code",
   "execution_count": null,
   "id": "b111a4a0",
   "metadata": {},
   "outputs": [],
   "source": []
  }
 ],
 "metadata": {
  "kernelspec": {
   "display_name": "Python 3 (ipykernel)",
   "language": "python",
   "name": "python3"
  },
  "language_info": {
   "codemirror_mode": {
    "name": "ipython",
    "version": 3
   },
   "file_extension": ".py",
   "mimetype": "text/x-python",
   "name": "python",
   "nbconvert_exporter": "python",
   "pygments_lexer": "ipython3",
   "version": "3.11.4"
  }
 },
 "nbformat": 4,
 "nbformat_minor": 5
}
