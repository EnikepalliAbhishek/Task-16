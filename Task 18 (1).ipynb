{
 "cells": [
  {
   "cell_type": "markdown",
   "id": "c9fb96f1",
   "metadata": {},
   "source": [
    "In this assignment, you will create a Python program to calculate the average grade of students in a function. However, the program should handle various exceptions that might occur during user input and grade calculation.\n",
    "**Requirements:**\n",
    "1. Your program should prompt the user to enter the total number of students.\n",
    "2. For each student, prompt the user to enter their name and three subject marks (out of 100).\n",
    "3. Handle the following exceptions\n",
    ":\n",
    "    a. ValueError: If the user enters a non-numeric value for the number of students or subject marks.\n",
    "    b. ZeroDivisionError: If any student's average marks cannot be calculated due to division by zero (e.g., no subject marks\n",
    "provided). c. NegativeValueError: If any student's marks are negative.\n",
    "4. Display appropriate error messages for each exception and prompt the user to try again.\n",
    "5. Use a try-except block for exception handling.\n",
    "6. Calculate the average marks for each student and display their names along with their average marks.\n",
    "7. Calculate and display the overall class average.\n",
    "8. Implement a loop so that the user can re-enter data if an exception occurs or continue calculating for another class.\n",
    "9. Include a graceful exit message when the user decides to stop.\n",
    "\n",
    "**Custom(User Defined) Exceptions:**\n",
    "Define two custom exception classes:\n",
    "1. `NegativeValueError: This exception should be raised when any of the subject marks are negative.\n",
    "2. `InvalidNumber Error: This exception should be raised when the user enters an invalid number for the total number of students (e.g., a negative number)."
   ]
  },
  {
   "cell_type": "code",
   "execution_count": 8,
   "id": "978b3926",
   "metadata": {},
   "outputs": [],
   "source": [
    "try:\n",
    "    def abhi(students):\n",
    "        students=int(input(\"enter the total number of students:  \"))\n",
    "        a=[]\n",
    "        if students>0:\n",
    "            for i in range (1,students+1):\n",
    "                name=input(f\"enter the name of student {i} :  \")\n",
    "                sub1=int(input(f\"enter the marks of subject 1 of {name} :  \"))\n",
    "                sub2=int(input(f\"enter the marks of subject 2 of {name} :  \"))                       \n",
    "                sub3=int(input(f\"enter the marks of subject 3 of {name} :  \"))\n",
    "                avg=(sub1+sub2+sub3)/3\n",
    "                a.append(avg)\n",
    "                print(f\"avg{i}=\",avg)\n",
    "        total=float(sum(avg)/students)\n",
    "        print(tatal)     \n",
    "except (ValueError,ZeroDivisionError, NegativeValueError,TypeError):\n",
    "    print(\"please provide a valid details\")"
   ]
  },
  {
   "cell_type": "code",
   "execution_count": 10,
   "id": "f44d3c46",
   "metadata": {},
   "outputs": [
    {
     "name": "stdout",
     "output_type": "stream",
     "text": [
      "enter the total number of students:  3\n",
      "enter the name of student 1 :  abhi\n",
      "enter the marks of subject 1 of abhi :  85\n",
      "enter the marks of subject 2 of abhi :  86\n",
      "enter the marks of subject 3 of abhi :  85\n",
      "avg1= 85.33333333333333\n",
      "enter the name of student 2 :  sai\n",
      "enter the marks of subject 1 of sai :  85\n",
      "enter the marks of subject 2 of sai :  95\n",
      "enter the marks of subject 3 of sai :  95\n",
      "avg2= 91.66666666666667\n",
      "enter the name of student 3 :  suresh\n",
      "enter the marks of subject 1 of suresh :  95\n",
      "enter the marks of subject 2 of suresh :  96\n",
      "enter the marks of subject 3 of suresh :  96\n",
      "avg3= 95.66666666666667\n"
     ]
    },
    {
     "ename": "TypeError",
     "evalue": "'float' object is not iterable",
     "output_type": "error",
     "traceback": [
      "\u001b[1;31m---------------------------------------------------------------------------\u001b[0m",
      "\u001b[1;31mTypeError\u001b[0m                                 Traceback (most recent call last)",
      "Cell \u001b[1;32mIn[10], line 1\u001b[0m\n\u001b[1;32m----> 1\u001b[0m abhi(\u001b[38;5;124m'\u001b[39m\u001b[38;5;124mstudents\u001b[39m\u001b[38;5;124m'\u001b[39m)\n",
      "Cell \u001b[1;32mIn[8], line 14\u001b[0m, in \u001b[0;36mabhi\u001b[1;34m(students)\u001b[0m\n\u001b[0;32m     12\u001b[0m         a\u001b[38;5;241m.\u001b[39mappend(avg)\n\u001b[0;32m     13\u001b[0m         \u001b[38;5;28mprint\u001b[39m(\u001b[38;5;124mf\u001b[39m\u001b[38;5;124m\"\u001b[39m\u001b[38;5;124mavg\u001b[39m\u001b[38;5;132;01m{\u001b[39;00mi\u001b[38;5;132;01m}\u001b[39;00m\u001b[38;5;124m=\u001b[39m\u001b[38;5;124m\"\u001b[39m,avg)\n\u001b[1;32m---> 14\u001b[0m total\u001b[38;5;241m=\u001b[39m\u001b[38;5;28mfloat\u001b[39m(\u001b[38;5;28msum\u001b[39m(avg)\u001b[38;5;241m/\u001b[39mstudents)\n\u001b[0;32m     15\u001b[0m \u001b[38;5;28mprint\u001b[39m(tatal)\n",
      "\u001b[1;31mTypeError\u001b[0m: 'float' object is not iterable"
     ]
    }
   ],
   "source": [
    "abhi('students')"
   ]
  },
  {
   "cell_type": "code",
   "execution_count": null,
   "id": "896cbc18",
   "metadata": {},
   "outputs": [],
   "source": []
  }
 ],
 "metadata": {
  "kernelspec": {
   "display_name": "Python 3 (ipykernel)",
   "language": "python",
   "name": "python3"
  },
  "language_info": {
   "codemirror_mode": {
    "name": "ipython",
    "version": 3
   },
   "file_extension": ".py",
   "mimetype": "text/x-python",
   "name": "python",
   "nbconvert_exporter": "python",
   "pygments_lexer": "ipython3",
   "version": "3.11.4"
  }
 },
 "nbformat": 4,
 "nbformat_minor": 5
}
