{
 "cells": [
  {
   "cell_type": "raw",
   "id": "fc22580c",
   "metadata": {},
   "source": [
    "Task 1:\n",
    "\n",
    "Load the file 'about_python.txt'into your jupyter notebook. a. Correct wrong statements about python fatures b. How many charactaers present in the data c. How many times 'Python' word is repeated. d. after correcting all ..print complete valid features of the python.\n",
    "Task2:\n",
    "\n",
    "Create a file 'File.txt'which expalains python file handling whatever you have learnt today(creating,reading,wring and appending...etc) in detail.That"
   ]
  },
  {
   "cell_type": "raw",
   "id": "d1b4dcff",
   "metadata": {},
   "source": [
    "Task 1:\n",
    "\n",
    "Load the file 'about_python.txt'into your jupyter notebook. a. Correct wrong statements about python fatures b. How many charactaers present in the data c. How many times 'Python' word is repeated. d. after correcting all ..print complete valid features of the python."
   ]
  },
  {
   "cell_type": "code",
   "execution_count": 2,
   "id": "f449ddc4",
   "metadata": {},
   "outputs": [],
   "source": [
    "file= open(\"data.txt\",'x')"
   ]
  },
  {
   "cell_type": "code",
   "execution_count": 6,
   "id": "311b9679",
   "metadata": {},
   "outputs": [
    {
     "data": {
      "text/plain": [
       "714"
      ]
     },
     "execution_count": 6,
     "metadata": {},
     "output_type": "execute_result"
    }
   ],
   "source": [
    "file.write(\"Python is an interpreted, object-oriented, high-level programming language with dynamic semantics. Its high-level built in data structures, combined with dynamic typing and dynamic binding, make it very attractive for Rapid Application Development, as well as for use as a scripting or glue language to connect existing components together. Python's simple, easy to learn syntax emphasizes readability and therefore reduces the cost of program maintenance. Python supports modules and packages, which encourages program modularity and code reuse. The Python interpreter and the extensive standard library are available in source or binary form without charge for all major platforms, and can be freely distributed.\")"
   ]
  },
  {
   "cell_type": "code",
   "execution_count": 8,
   "id": "91379f41",
   "metadata": {},
   "outputs": [],
   "source": [
    "file.close()"
   ]
  },
  {
   "cell_type": "code",
   "execution_count": 10,
   "id": "b66f80d7",
   "metadata": {},
   "outputs": [],
   "source": [
    "file= open(\"data.txt\",'r')"
   ]
  },
  {
   "cell_type": "code",
   "execution_count": 11,
   "id": "aaed46a9",
   "metadata": {},
   "outputs": [],
   "source": [
    "string=file.read()"
   ]
  },
  {
   "cell_type": "code",
   "execution_count": 12,
   "id": "30338562",
   "metadata": {},
   "outputs": [],
   "source": [
    "var1=string.replace(\"compiled\",\"interpreted\")\n",
    "var2=var1.replace(\"paid\",\"free\")\n",
    "var3=var2.replace(\"statically\",\"dynamically\")\n",
    "var4=var3.replace(\"double\",\"single and double\")\n",
    "var5=var4.replace(\"web development\",\"web development,software developmet and web scraping\")\n",
    "var6=var5.replace(\"Elon Musk\",\"Guido Van Rossum\")"
   ]
  },
  {
   "cell_type": "code",
   "execution_count": 13,
   "id": "cbe3a6c7",
   "metadata": {},
   "outputs": [],
   "source": [
    "file.close()"
   ]
  },
  {
   "cell_type": "code",
   "execution_count": 14,
   "id": "6e303d82",
   "metadata": {},
   "outputs": [
    {
     "name": "stdout",
     "output_type": "stream",
     "text": [
      "Python is an interpreted, object-oriented, high-level programming language with dynamic semantics. Its high-level built in data structures, combined with dynamic typing and dynamic binding, make it very attractive for Rapid Application Development, as well as for use as a scripting or glue language to connect existing components together. Python's simple, easy to learn syntax emphasizes readability and therefore reduces the cost of program maintenance. Python supports modules and packages, which encourages program modularity and code reuse. The Python interpreter and the extensive standard library are available in source or binary form without charge for all major platforms, and can be freely distributed.Python is an interpreted, object-oriented, high-level programming language with dynamic semantics. Its high-level built in data structures, combined with dynamic typing and dynamic binding, make it very attractive for Rapid Application Development, as well as for use as a scripting or glue language to connect existing components together. Python's simple, easy to learn syntax emphasizes readability and therefore reduces the cost of program maintenance. Python supports modules and packages, which encourages program modularity and code reuse. The Python interpreter and the extensive standard library are available in source or binary form without charge for all major platforms, and can be freely distributed.Python is an interpreted, object-oriented, high-level programming language with dynamic semantics. Its high-level built in data structures, combined with dynamic typing and dynamic binding, make it very attractive for Rapid Application Development, as well as for use as a scripting or glue language to connect existing components together. Python's simple, easy to learn syntax emphasizes readability and therefore reduces the cost of program maintenance. Python supports modules and packages, which encourages program modularity and code reuse. The Python interpreter and the extensive standard library are available in source or binary form without charge for all major platforms, and can be freely distributed.\n"
     ]
    }
   ],
   "source": [
    "print(string)"
   ]
  },
  {
   "cell_type": "raw",
   "id": "e6d80865",
   "metadata": {},
   "source": [
    "Task2:\n",
    "\n",
    "Create a file 'File.txt'which expalains python file handling whatever you have learnt today(creating,reading,wring and appending...etc) in detail.That"
   ]
  },
  {
   "cell_type": "code",
   "execution_count": 15,
   "id": "31cb3347",
   "metadata": {},
   "outputs": [],
   "source": [
    "file= open(\"sai.txt\",'x')"
   ]
  },
  {
   "cell_type": "code",
   "execution_count": 16,
   "id": "4418f53f",
   "metadata": {},
   "outputs": [
    {
     "data": {
      "text/plain": [
       "882"
      ]
     },
     "execution_count": 16,
     "metadata": {},
     "output_type": "execute_result"
    }
   ],
   "source": [
    "file.write(\"file handling\\\\n1. the file handling are two type \\\\none is text file two binary\\\\nthe file four mode\\\\n 1 is readmode \\\\n 2 writte mode\\\\nthree appending mode\\\\ncreat mode\\\\nthe read mode is the file only is read the file and don't accpet the write mode \\\\n the wite mode is to add the new lines and add the new line the old data is remove the file \\\\n the file handling is to start the open the file and the close the file is very important the file handling \\\\n appending is the to add the same line in the file with out the remove the old information\\\\n the creating the file the file craeting the  is filename in (.) formate  and to axising the two types ones is file location to axising the file and another is the file is to stored the current the running floder to past the file to accing the file is does't show the file that why the is to past the current dirctary the file is working\")"
   ]
  },
  {
   "cell_type": "code",
   "execution_count": 17,
   "id": "9ff9a9c6",
   "metadata": {},
   "outputs": [],
   "source": [
    "file.close()"
   ]
  },
  {
   "cell_type": "code",
   "execution_count": 20,
   "id": "d7c92020",
   "metadata": {},
   "outputs": [
    {
     "name": "stdout",
     "output_type": "stream",
     "text": [
      "file handling\\n1. the file handling are two type \\none is text file two binary\\nthe file four mode\\n 1 is readmode \\n 2 writte mode\\nthree appending mode\\ncreat mode\\nthe read mode is the file only is read the file and don't accpet the write mode \\n the wite mode is to add the new lines and add the new line the old data is remove the file \\n the file handling is to start the open the file and the close the file is very important the file handling \\n appending is the to add the same line in the file with out the remove the old information\\n the creating the file the file craeting the  is filename in (.) formate  and to axising the two types ones is file location to axising the file and another is the file is to stored the current the running floder to past the file to accing the file is does't show the file that why the is to past the current dirctary the file is working\n"
     ]
    }
   ],
   "source": [
    "f = open(\"sai.txt\",'r')          \n",
    "print(f.read())"
   ]
  },
  {
   "cell_type": "code",
   "execution_count": null,
   "id": "5501f751",
   "metadata": {},
   "outputs": [],
   "source": []
  }
 ],
 "metadata": {
  "kernelspec": {
   "display_name": "Python 3 (ipykernel)",
   "language": "python",
   "name": "python3"
  },
  "language_info": {
   "codemirror_mode": {
    "name": "ipython",
    "version": 3
   },
   "file_extension": ".py",
   "mimetype": "text/x-python",
   "name": "python",
   "nbconvert_exporter": "python",
   "pygments_lexer": "ipython3",
   "version": "3.11.4"
  }
 },
 "nbformat": 4,
 "nbformat_minor": 5
}
